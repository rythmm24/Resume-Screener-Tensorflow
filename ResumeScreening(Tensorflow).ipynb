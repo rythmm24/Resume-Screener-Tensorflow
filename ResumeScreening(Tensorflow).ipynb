{
  "nbformat": 4,
  "nbformat_minor": 0,
  "metadata": {
    "colab": {
      "name": "ResumeScreening(Tensorflow).ipynb",
      "private_outputs": true,
      "provenance": [],
      "collapsed_sections": []
    },
    "kernelspec": {
      "name": "python3",
      "display_name": "Python 3"
    },
    "language_info": {
      "name": "python"
    },
    "accelerator": "GPU"
  },
  "cells": [
    {
      "cell_type": "markdown",
      "metadata": {
        "id": "4sz2gkgxvvxR"
      },
      "source": [
        "# `Resume Screening Tool`\n",
        "####`Author -Tanmay Khandelwal`"
      ]
    },
    {
      "cell_type": "code",
      "metadata": {
        "id": "IbZVcZABt3wR"
      },
      "source": [
        " #Mounting Gdrive\n",
        "from google.colab import drive\n",
        "drive.mount('/content/drive')"
      ],
      "execution_count": null,
      "outputs": []
    },
    {
      "cell_type": "code",
      "metadata": {
        "id": "P8dpI9AtuZZd"
      },
      "source": [
        "!cd drive/MyDrive/"
      ],
      "execution_count": null,
      "outputs": []
    },
    {
      "cell_type": "code",
      "metadata": {
        "id": "AYCRSWlFubCm"
      },
      "source": [
        "import pandas as pd \n",
        "dataset_df=pd.read_csv('drive/MyDrive/ResumeDataSet.csv')"
      ],
      "execution_count": null,
      "outputs": []
    },
    {
      "cell_type": "code",
      "metadata": {
        "id": "HOK-s6BnvFK0"
      },
      "source": [
        "#Visualize the dataset\n",
        "dataset_df.head(10) "
      ],
      "execution_count": null,
      "outputs": []
    },
    {
      "cell_type": "code",
      "metadata": {
        "id": "6RX9H4wWvrn6"
      },
      "source": [
        "#Unique value count in category\n",
        "dataset_df.Category.value_counts() "
      ],
      "execution_count": null,
      "outputs": []
    },
    {
      "cell_type": "code",
      "metadata": {
        "id": "Igk-zDV69TS_"
      },
      "source": [
        "import seaborn as sns\n",
        "import matplotlib.pyplot as plt\n",
        "plt.figure(figsize=(5,5))\n",
        "sns.countplot(y=\"Category\", data=dataset_df)"
      ],
      "execution_count": null,
      "outputs": []
    },
    {
      "cell_type": "code",
      "metadata": {
        "id": "YrSed7eNDMT3"
      },
      "source": [
        "import re\n",
        "#Helper Function to clean the dataset\n",
        "def cleanResumeText(resumeText):\n",
        "    resumeText = re.sub('http\\S+\\s*', ' ', resumeText)  # remove URLs\n",
        "    resumeText = re.sub('RT|cc', ' ', resumeText)  # remove RT and cc\n",
        "    resumeText = re.sub('#\\S+', '', resumeText)  # remove hashtags\n",
        "    resumeText = re.sub('@\\S+', '  ', resumeText)  # remove mentions\n",
        "    resumeText = re.sub('[%s]' % re.escape(\"\"\"!\"#$%&'()*+,-./:;<=>?@[\\]^_`{|}~\"\"\"), ' ', resumeText)  # remove punctuations\n",
        "    resumeText = re.sub(r'[^\\x00-\\x7f]',r' ', resumeText) \n",
        "    resumeText = re.sub('\\s+', ' ', resumeText)  # remove extra whitespace\n",
        "    return resumeText\n",
        "dataset_df['cleaned_resume'] = ''\n",
        "dataset_df['cleaned_resume'] = dataset_df.Resume.apply(lambda x: cleanResumeText(x))\n",
        "dataset_df.head()"
      ],
      "execution_count": null,
      "outputs": []
    },
    {
      "cell_type": "code",
      "metadata": {
        "id": "7m-f2LBnJM1T"
      },
      "source": [
        "from sklearn.model_selection import train_test_split\n",
        "#Split into train test (80% used for training and 20% used for testing)\n",
        "train_df, test_df = train_test_split(dataset_df, test_size=0.2)"
      ],
      "execution_count": null,
      "outputs": []
    },
    {
      "cell_type": "code",
      "metadata": {
        "id": "PCo05KYlyeD-"
      },
      "source": [
        "train_df.shape[0], test_df.shape[0]"
      ],
      "execution_count": null,
      "outputs": []
    },
    {
      "cell_type": "code",
      "metadata": {
        "id": "BiBZ0l4wy9am"
      },
      "source": [
        "# Convert abstract text lines into lists \n",
        "train_sentences = train_df[\"cleaned_resume\"].tolist()\n",
        "test_sentences = test_df[\"cleaned_resume\"].tolist()\n",
        "len(train_sentences), len(test_sentences)"
      ],
      "execution_count": null,
      "outputs": []
    },
    {
      "cell_type": "code",
      "metadata": {
        "id": "N2hJhTHvzHVo"
      },
      "source": [
        "train_sentences[:10]"
      ],
      "execution_count": null,
      "outputs": []
    },
    {
      "cell_type": "code",
      "metadata": {
        "id": "GMt-lqoTzJgb"
      },
      "source": [
        "import numpy as np\n",
        "import tensorflow as tf\n",
        "from tensorflow.keras import layers"
      ],
      "execution_count": null,
      "outputs": []
    },
    {
      "cell_type": "code",
      "metadata": {
        "id": "fyREyJsi3cOJ"
      },
      "source": [
        "from sklearn.preprocessing import OneHotEncoder\n",
        "one_hot_encoder = OneHotEncoder(sparse=False)\n",
        "train_labels_one_hot = one_hot_encoder.fit_transform(train_df[\"Category\"].to_numpy().reshape(-1, 1))\n",
        "test_labels_one_hot = one_hot_encoder.transform(test_df[\"Category\"].to_numpy().reshape(-1, 1))\n",
        "\n",
        "# Check what training labels look like\n",
        "train_labels_one_hot"
      ],
      "execution_count": null,
      "outputs": []
    },
    {
      "cell_type": "code",
      "metadata": {
        "id": "u8_JanUpTWQz"
      },
      "source": [
        "train_sentences[:10]"
      ],
      "execution_count": null,
      "outputs": []
    },
    {
      "cell_type": "code",
      "metadata": {
        "id": "ezcUT8md5nR4"
      },
      "source": [
        "# Download pretrained TensorFlow Hub USE\n",
        "import tensorflow_hub as hub\n",
        "tf_hub_embedding_layer = hub.KerasLayer(\"https://tfhub.dev/google/universal-sentence-encoder/4\",\n",
        "                                        trainable=False,\n",
        "                                        name=\"universal_sentence_encoder\")"
      ],
      "execution_count": null,
      "outputs": []
    },
    {
      "cell_type": "code",
      "metadata": {
        "id": "kp2hm8s64U46"
      },
      "source": [
        "inputs = layers.Input(shape=[], dtype=tf.string)\n",
        "pretrained_embedding = tf_hub_embedding_layer(inputs) # tokenize text and create embedding\n",
        "x = layers.Dense(128, activation=\"relu\")(pretrained_embedding) # add a fully connected layer on top of the embedding\n",
        "outputs = layers.Dense(25, activation=\"softmax\")(x) # create the output layer\n",
        "model = tf.keras.Model(inputs=inputs,\n",
        "                        outputs=outputs)\n",
        "\n",
        "# Compile the model\n",
        "model.compile(loss=\"categorical_crossentropy\",\n",
        "                optimizer=tf.keras.optimizers.Adam(),\n",
        "                metrics=[\"accuracy\"])"
      ],
      "execution_count": null,
      "outputs": []
    },
    {
      "cell_type": "code",
      "metadata": {
        "id": "ir-JW-015tR6"
      },
      "source": [
        "model.summary()\n"
      ],
      "execution_count": null,
      "outputs": []
    },
    {
      "cell_type": "code",
      "metadata": {
        "id": "7YsARKmh5vbI"
      },
      "source": [
        "train_sentences = np.asarray(train_sentences)\n",
        "train_labels_one_hot = np.asarray(train_labels_one_hot)\n",
        "train_sentences[:5], train_labels_one_hot[:5]\n"
      ],
      "execution_count": null,
      "outputs": []
    },
    {
      "cell_type": "code",
      "metadata": {
        "id": "u0jska2HV177"
      },
      "source": [
        "tf.config.experimental_run_functions_eagerly(True)\n",
        "# Fit feature extractor model for 10 epochs\n",
        "model.fit(train_sentences,train_labels_one_hot,epochs=10)"
      ],
      "execution_count": null,
      "outputs": []
    },
    {
      "cell_type": "code",
      "metadata": {
        "id": "OS3E-c4-7Afx"
      },
      "source": [
        "test_sentences = np.asarray(test_sentences)\n",
        "test_labels_one_hot = np.asarray(test_labels_one_hot)\n",
        "model.evaluate(test_sentences,test_labels_one_hot)"
      ],
      "execution_count": null,
      "outputs": []
    },
    {
      "cell_type": "code",
      "metadata": {
        "id": "CJb9Ys_O7HPD"
      },
      "source": [
        "# Make predictions with feature extraction model\n",
        "model_pred_probs = model.predict(test_sentences)\n",
        "model_pred_probs"
      ],
      "execution_count": null,
      "outputs": []
    },
    {
      "cell_type": "code",
      "metadata": {
        "id": "rYdznK367LZs"
      },
      "source": [
        "model_preds = tf.argmax(model_pred_probs, axis=1)\n",
        "model_preds\n"
      ],
      "execution_count": null,
      "outputs": []
    },
    {
      "cell_type": "code",
      "metadata": {
        "id": "zRRtoRUycI6V"
      },
      "source": [
        "#Saving model\n",
        "#model.save(\"model.h5\") \n"
      ],
      "execution_count": null,
      "outputs": []
    },
    {
      "cell_type": "code",
      "metadata": {
        "id": "KaXyjmetcqao"
      },
      "source": [
        "#Predicting on Resumes at random\n",
        "def predict_on_resume(model, sentence):\n",
        "  pred_prob = model.predict([sentence])\n",
        "  pred_label = tf.argmax(pred_prob, axis=1)\n",
        "  return pred_label"
      ],
      "execution_count": null,
      "outputs": []
    },
    {
      "cell_type": "code",
      "metadata": {
        "id": "0JNCm25WdAO6"
      },
      "source": [
        "test_resume = \"Education Details August 2010 to May 2017 BE Electronics Communication Jabalpur Madhya Pradesh Takshshila institute of technology Java developer Skill Details Java Javascript Exprience 6 monthsCompany Details company Wab It Softwere Pvt Ltd description Jr Java Developer\""
      ],
      "execution_count": null,
      "outputs": []
    },
    {
      "cell_type": "code",
      "metadata": {
        "id": "_AnNP1c1c5It"
      },
      "source": [
        "test_abstract_preds = predict_on_resume(model=model, # use the USE model\n",
        "                    sentence=test_resume)"
      ],
      "execution_count": null,
      "outputs": []
    },
    {
      "cell_type": "code",
      "metadata": {
        "id": "4HWLte7Qgn3I"
      },
      "source": [
        "from sklearn.preprocessing import LabelEncoder\n",
        "label_encoder = LabelEncoder()\n",
        "train_labels_encoded = label_encoder.fit_transform(train_df[\"Category\"].to_numpy())\n",
        "test_abstract_pred_classes = [label_encoder.classes_[i] for i in test_abstract_preds]\n",
        "print(f'Predicted Category for Resume: {test_abstract_pred_classes[0]}')"
      ],
      "execution_count": null,
      "outputs": []
    }
  ]
}